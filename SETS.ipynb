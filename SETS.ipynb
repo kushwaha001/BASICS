{
 "cells": [
  {
   "cell_type": "code",
   "execution_count": null,
   "id": "649fab6f-d19e-4361-bfcf-879a33f71766",
   "metadata": {},
   "outputs": [],
   "source": [
    "#////////////////////////////////          sets            ///////////////////////////////////"
   ]
  },
  {
   "cell_type": "code",
   "execution_count": 1,
   "id": "99cc2fce-c047-491f-9a95-a502b9b6c296",
   "metadata": {},
   "outputs": [],
   "source": [
    "s={}"
   ]
  },
  {
   "cell_type": "code",
   "execution_count": 2,
   "id": "a74d0b85-8b31-4b1b-887e-8fc23e7ac7c2",
   "metadata": {},
   "outputs": [
    {
     "data": {
      "text/plain": [
       "dict"
      ]
     },
     "execution_count": 2,
     "metadata": {},
     "output_type": "execute_result"
    }
   ],
   "source": [
    "type(s)"
   ]
  },
  {
   "cell_type": "code",
   "execution_count": 3,
   "id": "31dfb3a4-a428-4a1b-bd71-64eee12d9ca7",
   "metadata": {},
   "outputs": [],
   "source": [
    "s1={1,2,2,2,2,,34,4,4,4,4,4,5,54,\"sufh\",\"pw\",\"rttttttttttt\"}"
   ]
  },
  {
   "cell_type": "code",
   "execution_count": 5,
   "id": "5a954680-b1de-4a90-8bd6-17d9ce211ec2",
   "metadata": {},
   "outputs": [
    {
     "data": {
      "text/plain": [
       "{1, 2, 34, 4, 5, 54, 'pw', 'rttttttttttt', 'sufh'}"
      ]
     },
     "execution_count": 5,
     "metadata": {},
     "output_type": "execute_result"
    }
   ],
   "source": [
    "s1"
   ]
  },
  {
   "cell_type": "code",
   "execution_count": 6,
   "id": "8ec6f9c5-a91a-4f1c-af93-c4f97b607cf3",
   "metadata": {},
   "outputs": [],
   "source": [
    "#no duplicate data will be shown in sets"
   ]
  },
  {
   "cell_type": "code",
   "execution_count": 7,
   "id": "10372903-0ff2-4bcb-84b5-8504d9dd3e31",
   "metadata": {},
   "outputs": [],
   "source": [
    "s2 = {\"sudh\", \"Susdh\"}"
   ]
  },
  {
   "cell_type": "code",
   "execution_count": 8,
   "id": "0b4b5124-313b-4f97-8c2b-62ddc2f748f2",
   "metadata": {},
   "outputs": [
    {
     "data": {
      "text/plain": [
       "{'Susdh', 'sudh'}"
      ]
     },
     "execution_count": 8,
     "metadata": {},
     "output_type": "execute_result"
    }
   ],
   "source": [
    "s2\n"
   ]
  },
  {
   "cell_type": "code",
   "execution_count": 9,
   "id": "be17d5f2-e437-4592-b619-43f061bc2647",
   "metadata": {},
   "outputs": [],
   "source": [
    "#python is case sensitive language"
   ]
  },
  {
   "cell_type": "code",
   "execution_count": 10,
   "id": "c839797b-027d-40a1-b4d6-021f1f70637a",
   "metadata": {},
   "outputs": [],
   "source": [
    "s3= {\"sudh\",\"sudh\",\"Sudh\"}"
   ]
  },
  {
   "cell_type": "code",
   "execution_count": 12,
   "id": "8dc79e1a-b912-47ca-a640-dce6f160c1ee",
   "metadata": {},
   "outputs": [
    {
     "data": {
      "text/plain": [
       "{'Sudh', 'sudh'}"
      ]
     },
     "execution_count": 12,
     "metadata": {},
     "output_type": "execute_result"
    }
   ],
   "source": [
    "s3      #no duplicated data will be printed"
   ]
  },
  {
   "cell_type": "code",
   "execution_count": 13,
   "id": "17822752-618d-4a00-bfd5-ad72a0bbbf78",
   "metadata": {},
   "outputs": [],
   "source": [
    "s2.add(\"pwskills\")"
   ]
  },
  {
   "cell_type": "code",
   "execution_count": 14,
   "id": "528e5ded-5d61-42b8-b7c0-4fa345469f6f",
   "metadata": {},
   "outputs": [
    {
     "data": {
      "text/plain": [
       "{'Susdh', 'pwskills', 'sudh'}"
      ]
     },
     "execution_count": 14,
     "metadata": {},
     "output_type": "execute_result"
    }
   ],
   "source": [
    "s2"
   ]
  },
  {
   "cell_type": "code",
   "execution_count": 15,
   "id": "ab4f82f7-96d4-442c-b608-8b9c75d305ca",
   "metadata": {},
   "outputs": [],
   "source": [
    "s2.add(\"pwskills\")         #same element will not be added again "
   ]
  },
  {
   "cell_type": "code",
   "execution_count": 16,
   "id": "cd9be3d2-71cd-44a9-824c-bf5c3bda6d20",
   "metadata": {},
   "outputs": [
    {
     "data": {
      "text/plain": [
       "{'Susdh', 'pwskills', 'sudh'}"
      ]
     },
     "execution_count": 16,
     "metadata": {},
     "output_type": "execute_result"
    }
   ],
   "source": [
    "s2"
   ]
  },
  {
   "cell_type": "code",
   "execution_count": 1,
   "id": "01e82184-00f3-406b-a346-b55c4c0b62bc",
   "metadata": {},
   "outputs": [
    {
     "ename": "NameError",
     "evalue": "name 's2' is not defined",
     "output_type": "error",
     "traceback": [
      "\u001b[0;31m---------------------------------------------------------------------------\u001b[0m",
      "\u001b[0;31mNameError\u001b[0m                                 Traceback (most recent call last)",
      "Cell \u001b[0;32mIn[1], line 1\u001b[0m\n\u001b[0;32m----> 1\u001b[0m \u001b[43ms2\u001b[49m\u001b[38;5;241m.\u001b[39madd([\u001b[38;5;241m2\u001b[39m,\u001b[38;5;241m23\u001b[39m,\u001b[38;5;241m3\u001b[39m])\n",
      "\u001b[0;31mNameError\u001b[0m: name 's2' is not defined"
     ]
    }
   ],
   "source": [
    "s2.add([2,23,3])"
   ]
  },
  {
   "cell_type": "code",
   "execution_count": 18,
   "id": "994bc843-96cb-47d5-8632-bcaafae36c1a",
   "metadata": {},
   "outputs": [],
   "source": [
    "#means list cannot be added in sets"
   ]
  },
  {
   "cell_type": "code",
   "execution_count": 19,
   "id": "4e675a47-d6ee-44bd-be14-89ecda4893a3",
   "metadata": {},
   "outputs": [],
   "source": [
    "s2.add((2,23,3))"
   ]
  },
  {
   "cell_type": "code",
   "execution_count": 20,
   "id": "5104d131-872d-49f9-b5da-f66e3414c586",
   "metadata": {},
   "outputs": [
    {
     "data": {
      "text/plain": [
       "{(2, 23, 3), 'Susdh', 'pwskills', 'sudh'}"
      ]
     },
     "execution_count": 20,
     "metadata": {},
     "output_type": "execute_result"
    }
   ],
   "source": [
    "s2"
   ]
  },
  {
   "cell_type": "code",
   "execution_count": 21,
   "id": "2baf4d87-5927-4a07-b794-909424ad20e0",
   "metadata": {},
   "outputs": [],
   "source": [
    "#tuble ca be addede in sets"
   ]
  },
  {
   "cell_type": "code",
   "execution_count": 23,
   "id": "1855153f-257a-4203-8e60-b5c4145d2e74",
   "metadata": {},
   "outputs": [],
   "source": [
    "#  @NOTE only immutable objects can be added in sets like lists"
   ]
  },
  {
   "cell_type": "code",
   "execution_count": 24,
   "id": "825ad9d2-a49b-45b9-bd39-bd919d4678f5",
   "metadata": {},
   "outputs": [
    {
     "ename": "TypeError",
     "evalue": "unhashable type: 'set'",
     "output_type": "error",
     "traceback": [
      "\u001b[0;31m---------------------------------------------------------------------------\u001b[0m",
      "\u001b[0;31mTypeError\u001b[0m                                 Traceback (most recent call last)",
      "Cell \u001b[0;32mIn[24], line 1\u001b[0m\n\u001b[0;32m----> 1\u001b[0m \u001b[43ms2\u001b[49m\u001b[38;5;241;43m.\u001b[39;49m\u001b[43madd\u001b[49m\u001b[43m(\u001b[49m\u001b[43m{\u001b[49m\u001b[38;5;241;43m2\u001b[39;49m\u001b[43m}\u001b[49m\u001b[43m)\u001b[49m\n",
      "\u001b[0;31mTypeError\u001b[0m: unhashable type: 'set'"
     ]
    }
   ],
   "source": [
    "s2.add({2})"
   ]
  },
  {
   "cell_type": "code",
   "execution_count": 26,
   "id": "10fe4aa8-df5a-4497-8cfe-88f5ec3387cf",
   "metadata": {},
   "outputs": [],
   "source": [
    "#lists and sets cannot be added"
   ]
  },
  {
   "cell_type": "code",
   "execution_count": 27,
   "id": "a04f6dcc-40bb-4986-b353-29a2a17507b3",
   "metadata": {},
   "outputs": [],
   "source": [
    "s2.clear()"
   ]
  },
  {
   "cell_type": "code",
   "execution_count": 28,
   "id": "8518add0-d147-4292-921a-042aea4840ad",
   "metadata": {},
   "outputs": [
    {
     "data": {
      "text/plain": [
       "set()"
      ]
     },
     "execution_count": 28,
     "metadata": {},
     "output_type": "execute_result"
    }
   ],
   "source": [
    "s2"
   ]
  },
  {
   "cell_type": "code",
   "execution_count": 29,
   "id": "eb0cbc90-d427-495d-97fb-724848682b69",
   "metadata": {},
   "outputs": [],
   "source": [
    "l= [2,2,2,5,4,4,5,43]"
   ]
  },
  {
   "cell_type": "code",
   "execution_count": 30,
   "id": "4dc38153-f05a-4d9c-bb5f-fdba91d2fae8",
   "metadata": {},
   "outputs": [
    {
     "data": {
      "text/plain": [
       "{2, 4, 5, 43}"
      ]
     },
     "execution_count": 30,
     "metadata": {},
     "output_type": "execute_result"
    }
   ],
   "source": [
    "set(l)"
   ]
  },
  {
   "cell_type": "code",
   "execution_count": 31,
   "id": "2757d3b2-87d1-410b-be20-a2b52d23f4e4",
   "metadata": {},
   "outputs": [
    {
     "data": {
      "text/plain": [
       "(2, 43, 4, 5)"
      ]
     },
     "execution_count": 31,
     "metadata": {},
     "output_type": "execute_result"
    }
   ],
   "source": [
    "tuple(set(l))"
   ]
  },
  {
   "cell_type": "code",
   "execution_count": 32,
   "id": "ee9619df-cd16-47ca-8915-4b49a4fdb34d",
   "metadata": {},
   "outputs": [
    {
     "data": {
      "text/plain": [
       "{1, 2, 34, 4, 5, 54, 'pw', 'rttttttttttt', 'sufh'}"
      ]
     },
     "execution_count": 32,
     "metadata": {},
     "output_type": "execute_result"
    }
   ],
   "source": [
    "s1"
   ]
  },
  {
   "cell_type": "code",
   "execution_count": 33,
   "id": "da9e0db9-ca1f-465f-a032-babafd88f02d",
   "metadata": {},
   "outputs": [],
   "source": [
    "s1.remove(2)"
   ]
  },
  {
   "cell_type": "code",
   "execution_count": 34,
   "id": "bc4e3de0-2bae-40d1-8188-52b2fed988e6",
   "metadata": {},
   "outputs": [
    {
     "data": {
      "text/plain": [
       "{1, 34, 4, 5, 54, 'pw', 'rttttttttttt', 'sufh'}"
      ]
     },
     "execution_count": 34,
     "metadata": {},
     "output_type": "execute_result"
    }
   ],
   "source": [
    "s1"
   ]
  },
  {
   "cell_type": "code",
   "execution_count": 35,
   "id": "ee92e51d-5c51-4c13-b21e-ee391f79c08a",
   "metadata": {},
   "outputs": [],
   "source": [
    "s1.discard(34)"
   ]
  },
  {
   "cell_type": "code",
   "execution_count": 36,
   "id": "be0ff140-5176-401a-bc58-7452bac99be3",
   "metadata": {},
   "outputs": [
    {
     "data": {
      "text/plain": [
       "{1, 4, 5, 54, 'pw', 'rttttttttttt', 'sufh'}"
      ]
     },
     "execution_count": 36,
     "metadata": {},
     "output_type": "execute_result"
    }
   ],
   "source": [
    "s1"
   ]
  },
  {
   "cell_type": "code",
   "execution_count": 37,
   "id": "97550bb0-6baf-465b-a273-4c4822f7c0d5",
   "metadata": {},
   "outputs": [],
   "source": [
    "#DIFFERENCE BETWEEN DISCARD AND REMOVE FUNCTIONS"
   ]
  },
  {
   "cell_type": "code",
   "execution_count": 38,
   "id": "79cf5837-0bc4-4c1e-94a1-6d57ca8bc7a1",
   "metadata": {},
   "outputs": [
    {
     "ename": "KeyError",
     "evalue": "500",
     "output_type": "error",
     "traceback": [
      "\u001b[0;31m---------------------------------------------------------------------------\u001b[0m",
      "\u001b[0;31mKeyError\u001b[0m                                  Traceback (most recent call last)",
      "Cell \u001b[0;32mIn[38], line 1\u001b[0m\n\u001b[0;32m----> 1\u001b[0m \u001b[43ms1\u001b[49m\u001b[38;5;241;43m.\u001b[39;49m\u001b[43mremove\u001b[49m\u001b[43m(\u001b[49m\u001b[38;5;241;43m500\u001b[39;49m\u001b[43m)\u001b[49m\n",
      "\u001b[0;31mKeyError\u001b[0m: 500"
     ]
    }
   ],
   "source": [
    "s1.remove(500)"
   ]
  },
  {
   "cell_type": "code",
   "execution_count": 39,
   "id": "176363c5-534b-42ed-9192-834c9abae0e0",
   "metadata": {},
   "outputs": [],
   "source": [
    "s1.discard(500)"
   ]
  },
  {
   "cell_type": "code",
   "execution_count": 40,
   "id": "f33cb2d4-af2f-4746-a1b2-0a1d74f3f637",
   "metadata": {},
   "outputs": [],
   "source": [
    "#no error"
   ]
  },
  {
   "cell_type": "code",
   "execution_count": 41,
   "id": "2ad7d70b-f02b-47f1-bec6-6d4868445957",
   "metadata": {},
   "outputs": [
    {
     "data": {
      "text/plain": [
       "1"
      ]
     },
     "execution_count": 41,
     "metadata": {},
     "output_type": "execute_result"
    }
   ],
   "source": [
    "s1.pop()"
   ]
  },
  {
   "cell_type": "code",
   "execution_count": 42,
   "id": "795ce53f-b39e-4772-991d-25cc3cdf3b44",
   "metadata": {},
   "outputs": [
    {
     "data": {
      "text/plain": [
       "4"
      ]
     },
     "execution_count": 42,
     "metadata": {},
     "output_type": "execute_result"
    }
   ],
   "source": [
    "s1.pop()"
   ]
  },
  {
   "cell_type": "code",
   "execution_count": 43,
   "id": "a859a971-bf8a-443f-a007-a1711038116f",
   "metadata": {},
   "outputs": [
    {
     "data": {
      "text/plain": [
       "{5, 54, 'pw', 'rttttttttttt', 'sufh'}"
      ]
     },
     "execution_count": 43,
     "metadata": {},
     "output_type": "execute_result"
    }
   ],
   "source": [
    "s1"
   ]
  },
  {
   "cell_type": "code",
   "execution_count": 44,
   "id": "002b4b07-90e1-485b-9342-f2d56de757de",
   "metadata": {},
   "outputs": [
    {
     "ename": "TypeError",
     "evalue": "'set' object is not subscriptable",
     "output_type": "error",
     "traceback": [
      "\u001b[0;31m---------------------------------------------------------------------------\u001b[0m",
      "\u001b[0;31mTypeError\u001b[0m                                 Traceback (most recent call last)",
      "Cell \u001b[0;32mIn[44], line 1\u001b[0m\n\u001b[0;32m----> 1\u001b[0m \u001b[43ms1\u001b[49m\u001b[43m[\u001b[49m\u001b[38;5;241;43m0\u001b[39;49m\u001b[43m]\u001b[49m\n",
      "\u001b[0;31mTypeError\u001b[0m: 'set' object is not subscriptable"
     ]
    }
   ],
   "source": [
    "s1[0]"
   ]
  },
  {
   "cell_type": "code",
   "execution_count": 45,
   "id": "c49db3a3-973c-4817-b380-c06f2c40bc0f",
   "metadata": {},
   "outputs": [],
   "source": [
    "# ie no indexing because data is not stored in a sequence"
   ]
  },
  {
   "cell_type": "code",
   "execution_count": null,
   "id": "9a988c17-e5f9-4cf9-9f29-d8d2513fee08",
   "metadata": {},
   "outputs": [],
   "source": []
  }
 ],
 "metadata": {
  "kernelspec": {
   "display_name": "Python 3 (ipykernel)",
   "language": "python",
   "name": "python3"
  },
  "language_info": {
   "codemirror_mode": {
    "name": "ipython",
    "version": 3
   },
   "file_extension": ".py",
   "mimetype": "text/x-python",
   "name": "python",
   "nbconvert_exporter": "python",
   "pygments_lexer": "ipython3",
   "version": "3.10.8"
  }
 },
 "nbformat": 4,
 "nbformat_minor": 5
}
