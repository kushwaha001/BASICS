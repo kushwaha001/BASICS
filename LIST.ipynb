{
 "cells": [
  {
   "cell_type": "raw",
   "id": "70136759-2fd7-43fc-a64f-7515421d312f",
   "metadata": {},
   "source": [
    "                             ///////////////////   LIST FUNCTIONS   ////////////////////"
   ]
  },
  {
   "cell_type": "code",
   "execution_count": 17,
   "id": "b215a707-4f8e-4ef2-91f8-c786a8158827",
   "metadata": {},
   "outputs": [],
   "source": [
    "l=[1,2,3,4,5,5,6,]"
   ]
  },
  {
   "cell_type": "code",
   "execution_count": 18,
   "id": "ad7e5e0d-e115-4707-b810-371b80557d92",
   "metadata": {},
   "outputs": [
    {
     "data": {
      "text/plain": [
       "[1, 2, 3, 4, 5, 5, 6, 1, 2, 3, 4, 5, 5, 6]"
      ]
     },
     "execution_count": 18,
     "metadata": {},
     "output_type": "execute_result"
    }
   ],
   "source": [
    "l*2"
   ]
  },
  {
   "cell_type": "code",
   "execution_count": 19,
   "id": "76ae505f-d5ce-4ffd-ad34-bda6750efc8a",
   "metadata": {},
   "outputs": [
    {
     "data": {
      "text/plain": [
       "[1, 2, 3, 4, 5, 5, 6, 1, 2, 3, 4, 5, 5, 6, 1, 2, 3, 4, 5, 5, 6]"
      ]
     },
     "execution_count": 19,
     "metadata": {},
     "output_type": "execute_result"
    }
   ],
   "source": [
    "l*3"
   ]
  },
  {
   "cell_type": "code",
   "execution_count": 20,
   "id": "70cd3889-70c2-4a72-983d-d4f706f307a3",
   "metadata": {},
   "outputs": [],
   "source": [
    "s= \"suh\""
   ]
  },
  {
   "cell_type": "code",
   "execution_count": 21,
   "id": "bbd5a8a1-e41a-468b-946e-adcea6ecbd6a",
   "metadata": {},
   "outputs": [
    {
     "data": {
      "text/plain": [
       "'suhsuhsuhsuhsuh'"
      ]
     },
     "execution_count": 21,
     "metadata": {},
     "output_type": "execute_result"
    }
   ],
   "source": [
    "s*5"
   ]
  },
  {
   "cell_type": "code",
   "execution_count": 22,
   "id": "2e133be8-4f11-4015-8f79-a3c01081814b",
   "metadata": {},
   "outputs": [],
   "source": [
    "l1=['d',98,\"jijhj\"]"
   ]
  },
  {
   "cell_type": "code",
   "execution_count": 23,
   "id": "074a6cd5-a25f-463f-bc9f-0f4ad1b07688",
   "metadata": {},
   "outputs": [
    {
     "data": {
      "text/plain": [
       "['d', 98, 'jijhj', 1, 2, 3, 4, 5, 5, 6]"
      ]
     },
     "execution_count": 23,
     "metadata": {},
     "output_type": "execute_result"
    }
   ],
   "source": [
    "l1+l"
   ]
  },
  {
   "cell_type": "code",
   "execution_count": 24,
   "id": "f6034839-96ef-4086-b5a8-02e03d060ee4",
   "metadata": {},
   "outputs": [
    {
     "ename": "TypeError",
     "evalue": "can only concatenate list (not \"int\") to list",
     "output_type": "error",
     "traceback": [
      "\u001b[0;31m---------------------------------------------------------------------------\u001b[0m",
      "\u001b[0;31mTypeError\u001b[0m                                 Traceback (most recent call last)",
      "Cell \u001b[0;32mIn[24], line 1\u001b[0m\n\u001b[0;32m----> 1\u001b[0m \u001b[43ml\u001b[49m\u001b[38;5;241;43m+\u001b[39;49m\u001b[38;5;241;43m8\u001b[39;49m\n",
      "\u001b[0;31mTypeError\u001b[0m: can only concatenate list (not \"int\") to list"
     ]
    }
   ],
   "source": [
    "l+8"
   ]
  },
  {
   "cell_type": "code",
   "execution_count": 25,
   "id": "acc60a3e-2453-449c-8881-3f1de3565fab",
   "metadata": {},
   "outputs": [
    {
     "data": {
      "text/plain": [
       "7"
      ]
     },
     "execution_count": 25,
     "metadata": {},
     "output_type": "execute_result"
    }
   ],
   "source": [
    "len(l)"
   ]
  },
  {
   "cell_type": "code",
   "execution_count": 26,
   "id": "d332431b-8fae-426a-962a-daca4b2b5ef7",
   "metadata": {},
   "outputs": [
    {
     "ename": "NameError",
     "evalue": "name 'd' is not defined",
     "output_type": "error",
     "traceback": [
      "\u001b[0;31m---------------------------------------------------------------------------\u001b[0m",
      "\u001b[0;31mNameError\u001b[0m                                 Traceback (most recent call last)",
      "Cell \u001b[0;32mIn[26], line 1\u001b[0m\n\u001b[0;32m----> 1\u001b[0m \u001b[43md\u001b[49m \u001b[38;5;129;01min\u001b[39;00m l1\n",
      "\u001b[0;31mNameError\u001b[0m: name 'd' is not defined"
     ]
    }
   ],
   "source": [
    "d in l1"
   ]
  },
  {
   "cell_type": "code",
   "execution_count": 27,
   "id": "d875e3d7-3531-48a3-8a4f-f665ae1b445e",
   "metadata": {},
   "outputs": [
    {
     "data": {
      "text/plain": [
       "True"
      ]
     },
     "execution_count": 27,
     "metadata": {},
     "output_type": "execute_result"
    }
   ],
   "source": [
    "'d' in l1"
   ]
  },
  {
   "cell_type": "code",
   "execution_count": 28,
   "id": "d55e47a2-2cce-42e6-8d84-fd7d83fed0df",
   "metadata": {},
   "outputs": [
    {
     "data": {
      "text/plain": [
       "False"
      ]
     },
     "execution_count": 28,
     "metadata": {},
     "output_type": "execute_result"
    }
   ],
   "source": [
    "97 in l1"
   ]
  },
  {
   "cell_type": "code",
   "execution_count": 29,
   "id": "05f6d19e-6a4c-4c71-9b26-4d6357dcc9c7",
   "metadata": {},
   "outputs": [
    {
     "data": {
      "text/plain": [
       "False"
      ]
     },
     "execution_count": 29,
     "metadata": {},
     "output_type": "execute_result"
    }
   ],
   "source": [
    "max in l1"
   ]
  },
  {
   "cell_type": "code",
   "execution_count": 30,
   "id": "7767b599-3714-4bc9-9b59-64546184f59f",
   "metadata": {},
   "outputs": [
    {
     "ename": "TypeError",
     "evalue": "'>' not supported between instances of 'int' and 'str'",
     "output_type": "error",
     "traceback": [
      "\u001b[0;31m---------------------------------------------------------------------------\u001b[0m",
      "\u001b[0;31mTypeError\u001b[0m                                 Traceback (most recent call last)",
      "Cell \u001b[0;32mIn[30], line 1\u001b[0m\n\u001b[0;32m----> 1\u001b[0m \u001b[38;5;28;43mmax\u001b[39;49m\u001b[43m(\u001b[49m\u001b[43ml1\u001b[49m\u001b[43m)\u001b[49m\n",
      "\u001b[0;31mTypeError\u001b[0m: '>' not supported between instances of 'int' and 'str'"
     ]
    }
   ],
   "source": [
    "max(l1)"
   ]
  },
  {
   "cell_type": "code",
   "execution_count": 31,
   "id": "358129cd-acef-435f-a8cf-888a14a00811",
   "metadata": {},
   "outputs": [],
   "source": [
    "l5=[5,77,785,]"
   ]
  },
  {
   "cell_type": "code",
   "execution_count": 32,
   "id": "a32c28b8-2c18-46bd-b39e-627826c56b65",
   "metadata": {},
   "outputs": [
    {
     "data": {
      "text/plain": [
       "785"
      ]
     },
     "execution_count": 32,
     "metadata": {},
     "output_type": "execute_result"
    }
   ],
   "source": [
    "max(l5)"
   ]
  },
  {
   "cell_type": "code",
   "execution_count": 44,
   "id": "1160d836-0699-43d4-9048-29da31091309",
   "metadata": {},
   "outputs": [],
   "source": [
    "lstr=[\"sd\",\"hj\",\"bj\"]"
   ]
  },
  {
   "cell_type": "code",
   "execution_count": 41,
   "id": "50c4f970-a9c0-43d5-a4b3-f2ebaa601c6b",
   "metadata": {},
   "outputs": [
    {
     "data": {
      "text/plain": [
       "'sd'"
      ]
     },
     "execution_count": 41,
     "metadata": {},
     "output_type": "execute_result"
    }
   ],
   "source": [
    "max(lstr)"
   ]
  },
  {
   "cell_type": "code",
   "execution_count": 42,
   "id": "9a822648-72a6-4662-9fd7-17c2e16b9746",
   "metadata": {},
   "outputs": [
    {
     "data": {
      "text/plain": [
       "'sd'"
      ]
     },
     "execution_count": 42,
     "metadata": {},
     "output_type": "execute_result"
    }
   ],
   "source": [
    "max(lstr)"
   ]
  },
  {
   "cell_type": "code",
   "execution_count": 43,
   "id": "9fcb4c37-f3a3-4645-9127-d2835a725250",
   "metadata": {},
   "outputs": [
    {
     "data": {
      "text/plain": [
       "'bj'"
      ]
     },
     "execution_count": 43,
     "metadata": {},
     "output_type": "execute_result"
    }
   ],
   "source": [
    "min(lstr)"
   ]
  },
  {
   "cell_type": "code",
   "execution_count": 48,
   "id": "040e3c8d-0b87-4e13-ae9d-f368b7139dee",
   "metadata": {},
   "outputs": [],
   "source": [
    "l5.append(65)"
   ]
  },
  {
   "cell_type": "code",
   "execution_count": 47,
   "id": "98cd203b-b457-45c3-bf10-5bd6f28f81a4",
   "metadata": {},
   "outputs": [
    {
     "data": {
      "text/plain": [
       "[5, 77, 785, 65, 65]"
      ]
     },
     "execution_count": 47,
     "metadata": {},
     "output_type": "execute_result"
    }
   ],
   "source": [
    "l5"
   ]
  },
  {
   "cell_type": "code",
   "execution_count": 49,
   "id": "e8eae88c-2458-46f2-bfb2-6177113c2cb9",
   "metadata": {},
   "outputs": [
    {
     "data": {
      "text/plain": [
       "[5, 77, 785, 65, 65, 65]"
      ]
     },
     "execution_count": 49,
     "metadata": {},
     "output_type": "execute_result"
    }
   ],
   "source": [
    "l5"
   ]
  },
  {
   "cell_type": "code",
   "execution_count": 50,
   "id": "2269e63f-c403-4372-9145-695af0ef7c7e",
   "metadata": {},
   "outputs": [
    {
     "data": {
      "text/plain": [
       "['sd', 'hj', 'bj']"
      ]
     },
     "execution_count": 50,
     "metadata": {},
     "output_type": "execute_result"
    }
   ],
   "source": [
    "lstr"
   ]
  },
  {
   "cell_type": "code",
   "execution_count": 51,
   "id": "e6d1963f-9bda-4580-b5b7-8eb7d2cfb729",
   "metadata": {},
   "outputs": [],
   "source": [
    "lstr.insert(1,\"baba\")"
   ]
  },
  {
   "cell_type": "code",
   "execution_count": 52,
   "id": "ca871f20-33fb-4c3c-a299-33d747b59276",
   "metadata": {},
   "outputs": [
    {
     "data": {
      "text/plain": [
       "['sd', 'baba', 'hj', 'bj']"
      ]
     },
     "execution_count": 52,
     "metadata": {},
     "output_type": "execute_result"
    }
   ],
   "source": [
    "lstr"
   ]
  },
  {
   "cell_type": "code",
   "execution_count": 53,
   "id": "62e52a56-c7ff-4d52-8efd-f2c0b63a64a6",
   "metadata": {},
   "outputs": [
    {
     "data": {
      "text/plain": [
       "'bj'"
      ]
     },
     "execution_count": 53,
     "metadata": {},
     "output_type": "execute_result"
    }
   ],
   "source": [
    "lstr.pop()"
   ]
  },
  {
   "cell_type": "code",
   "execution_count": 54,
   "id": "6f27d2aa-ca32-4340-a951-163aa5101886",
   "metadata": {},
   "outputs": [
    {
     "data": {
      "text/plain": [
       "['sd', 'baba', 'hj']"
      ]
     },
     "execution_count": 54,
     "metadata": {},
     "output_type": "execute_result"
    }
   ],
   "source": [
    "lstr"
   ]
  },
  {
   "cell_type": "raw",
   "id": "e7b98b08-7f69-429e-b749-3a9a0636c83c",
   "metadata": {},
   "source": [
    "bj is popped out of list."
   ]
  },
  {
   "cell_type": "code",
   "execution_count": 56,
   "id": "213ce3ce-a2dd-4831-8335-c9c6fedf0f46",
   "metadata": {},
   "outputs": [
    {
     "data": {
      "text/plain": [
       "'baba'"
      ]
     },
     "execution_count": 56,
     "metadata": {},
     "output_type": "execute_result"
    }
   ],
   "source": [
    "lstr.pop(1)"
   ]
  },
  {
   "cell_type": "code",
   "execution_count": 57,
   "id": "6900c9d7-5df6-49a3-a9ce-4b8c1bb8e868",
   "metadata": {},
   "outputs": [
    {
     "data": {
      "text/plain": [
       "['sd', 'hj']"
      ]
     },
     "execution_count": 57,
     "metadata": {},
     "output_type": "execute_result"
    }
   ],
   "source": [
    "lstr"
   ]
  },
  {
   "cell_type": "code",
   "execution_count": 3,
   "id": "ba2bfa80-584c-4cbf-bb66-46132c0c88a9",
   "metadata": {},
   "outputs": [
    {
     "ename": "NameError",
     "evalue": "name 'lstr' is not defined",
     "output_type": "error",
     "traceback": [
      "\u001b[0;31m---------------------------------------------------------------------------\u001b[0m",
      "\u001b[0;31mNameError\u001b[0m                                 Traceback (most recent call last)",
      "Cell \u001b[0;32mIn[3], line 1\u001b[0m\n\u001b[0;32m----> 1\u001b[0m \u001b[43mlstr\u001b[49m\u001b[38;5;241m.\u001b[39mextend()\n",
      "\u001b[0;31mNameError\u001b[0m: name 'lstr' is not defined"
     ]
    }
   ],
   "source": [
    "lstr.extend()"
   ]
  },
  {
   "cell_type": "code",
   "execution_count": null,
   "id": "40e79b64-ceec-461f-b749-b6181aa9fc7f",
   "metadata": {},
   "outputs": [],
   "source": []
  }
 ],
 "metadata": {
  "kernelspec": {
   "display_name": "Python 3 (ipykernel)",
   "language": "python",
   "name": "python3"
  },
  "language_info": {
   "codemirror_mode": {
    "name": "ipython",
    "version": 3
   },
   "file_extension": ".py",
   "mimetype": "text/x-python",
   "name": "python",
   "nbconvert_exporter": "python",
   "pygments_lexer": "ipython3",
   "version": "3.10.8"
  }
 },
 "nbformat": 4,
 "nbformat_minor": 5
}
