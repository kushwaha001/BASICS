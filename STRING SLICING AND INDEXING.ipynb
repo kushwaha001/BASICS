{
 "cells": [
  {
   "cell_type": "code",
   "execution_count": 22,
   "id": "cb23786d-b387-4d7e-9aa4-23218d8976d6",
   "metadata": {},
   "outputs": [],
   "source": [
    "s=\"Pwskills\""
   ]
  },
  {
   "cell_type": "code",
   "execution_count": 23,
   "id": "2b773845-6ec5-4c05-bcb9-55dc95fa7807",
   "metadata": {},
   "outputs": [
    {
     "data": {
      "text/plain": [
       "'i'"
      ]
     },
     "execution_count": 23,
     "metadata": {},
     "output_type": "execute_result"
    }
   ],
   "source": [
    "s[4]"
   ]
  },
  {
   "cell_type": "code",
   "execution_count": 24,
   "id": "f78d1ba8-d250-4719-8a33-013af06fc0da",
   "metadata": {},
   "outputs": [
    {
     "data": {
      "text/plain": [
       "'P'"
      ]
     },
     "execution_count": 24,
     "metadata": {},
     "output_type": "execute_result"
    }
   ],
   "source": [
    "s[0]"
   ]
  },
  {
   "cell_type": "code",
   "execution_count": 25,
   "id": "046b6d17-6af9-4f85-b53e-f5e5156364d6",
   "metadata": {},
   "outputs": [
    {
     "data": {
      "text/plain": [
       "'P'"
      ]
     },
     "execution_count": 25,
     "metadata": {},
     "output_type": "execute_result"
    }
   ],
   "source": [
    "s[-8]"
   ]
  },
  {
   "cell_type": "code",
   "execution_count": 26,
   "id": "deb79bc7-74c4-4b89-9a88-f2f486ef70eb",
   "metadata": {},
   "outputs": [
    {
     "data": {
      "text/plain": [
       "'w'"
      ]
     },
     "execution_count": 26,
     "metadata": {},
     "output_type": "execute_result"
    }
   ],
   "source": [
    "s[1]"
   ]
  },
  {
   "cell_type": "code",
   "execution_count": 27,
   "id": "fc956f72-dc44-4948-9720-4ecd7fada682",
   "metadata": {},
   "outputs": [],
   "source": [
    "s=\"pwskills\""
   ]
  },
  {
   "cell_type": "code",
   "execution_count": 28,
   "id": "4796584d-7236-490c-bcd5-4fca2eda8414",
   "metadata": {
    "tags": []
   },
   "outputs": [
    {
     "data": {
      "text/plain": [
       "'p'"
      ]
     },
     "execution_count": 28,
     "metadata": {},
     "output_type": "execute_result"
    }
   ],
   "source": [
    "s[0]"
   ]
  },
  {
   "cell_type": "code",
   "execution_count": 29,
   "id": "b4f13770-8594-409b-93c5-d61096db8f65",
   "metadata": {},
   "outputs": [
    {
     "data": {
      "text/plain": [
       "'wski'"
      ]
     },
     "execution_count": 29,
     "metadata": {},
     "output_type": "execute_result"
    }
   ],
   "source": [
    "s[1:5]"
   ]
  },
  {
   "cell_type": "code",
   "execution_count": 30,
   "id": "7c6ceceb-3aab-4842-93fe-be32eb20df7d",
   "metadata": {},
   "outputs": [
    {
     "data": {
      "text/plain": [
       "'kill'"
      ]
     },
     "execution_count": 30,
     "metadata": {},
     "output_type": "execute_result"
    }
   ],
   "source": [
    "s[3:7]"
   ]
  },
  {
   "cell_type": "code",
   "execution_count": 31,
   "id": "483e6be1-221b-4399-8a81-0c358d5ebc26",
   "metadata": {},
   "outputs": [
    {
     "data": {
      "text/plain": [
       "'wkl'"
      ]
     },
     "execution_count": 31,
     "metadata": {},
     "output_type": "execute_result"
    }
   ],
   "source": [
    "s[1:7:2]"
   ]
  },
  {
   "cell_type": "code",
   "execution_count": 32,
   "id": "d7eb1fbd-d917-481f-9360-5d23d2b0d96b",
   "metadata": {},
   "outputs": [
    {
     "data": {
      "text/plain": [
       "'si'"
      ]
     },
     "execution_count": 32,
     "metadata": {},
     "output_type": "execute_result"
    }
   ],
   "source": [
    "s[2:6:2]"
   ]
  },
  {
   "cell_type": "code",
   "execution_count": 33,
   "id": "e3a9130c-f13f-41e4-82ad-4a11b032322f",
   "metadata": {},
   "outputs": [
    {
     "data": {
      "text/plain": [
       "'pwskills'"
      ]
     },
     "execution_count": 33,
     "metadata": {},
     "output_type": "execute_result"
    }
   ],
   "source": [
    "s"
   ]
  },
  {
   "cell_type": "code",
   "execution_count": 34,
   "id": "036edcb9-bc39-4d9f-8e73-2ce165d4fc56",
   "metadata": {},
   "outputs": [],
   "source": [
    "h=\"hello world\""
   ]
  },
  {
   "cell_type": "code",
   "execution_count": 36,
   "id": "65a69fda-4c65-46b8-8597-bbf1082ccc8f",
   "metadata": {},
   "outputs": [
    {
     "data": {
      "text/plain": [
       "'llo'"
      ]
     },
     "execution_count": 36,
     "metadata": {},
     "output_type": "execute_result"
    }
   ],
   "source": [
    "h[2:5]"
   ]
  },
  {
   "cell_type": "code",
   "execution_count": null,
   "id": "833b9c8f-6d4e-4234-b12b-ac8ca7558243",
   "metadata": {},
   "outputs": [],
   "source": []
  },
  {
   "cell_type": "code",
   "execution_count": null,
   "id": "dc742014-cdc4-4afc-92d2-9c98a3749077",
   "metadata": {},
   "outputs": [],
   "source": []
  },
  {
   "cell_type": "code",
   "execution_count": null,
   "id": "4a47f406-e6d8-41d2-bc4c-e7c29bad6c4c",
   "metadata": {},
   "outputs": [],
   "source": []
  },
  {
   "cell_type": "code",
   "execution_count": null,
   "id": "5aad5fd1-d0e3-4fac-a1f9-a6401d1cd908",
   "metadata": {},
   "outputs": [],
   "source": []
  }
 ],
 "metadata": {
  "kernelspec": {
   "display_name": "Python 3 (ipykernel)",
   "language": "python",
   "name": "python3"
  },
  "language_info": {
   "codemirror_mode": {
    "name": "ipython",
    "version": 3
   },
   "file_extension": ".py",
   "mimetype": "text/x-python",
   "name": "python",
   "nbconvert_exporter": "python",
   "pygments_lexer": "ipython3",
   "version": "3.10.8"
  }
 },
 "nbformat": 4,
 "nbformat_minor": 5
}
