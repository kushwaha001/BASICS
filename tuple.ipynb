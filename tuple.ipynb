{
 "cells": [
  {
   "cell_type": "code",
   "execution_count": 1,
   "id": "27abc991-b2f5-4da0-b75d-ce0992313094",
   "metadata": {},
   "outputs": [],
   "source": [
    "t=()"
   ]
  },
  {
   "cell_type": "code",
   "execution_count": 2,
   "id": "a6dc9cb6-b06c-40d7-ad5b-14a37985d10e",
   "metadata": {},
   "outputs": [
    {
     "data": {
      "text/plain": [
       "tuple"
      ]
     },
     "execution_count": 2,
     "metadata": {},
     "output_type": "execute_result"
    }
   ],
   "source": [
    "type(t)"
   ]
  },
  {
   "cell_type": "code",
   "execution_count": 2,
   "id": "b887eab4-6682-47a7-aa0c-1ab2f72547f2",
   "metadata": {},
   "outputs": [],
   "source": [
    "t1 = (1,2,3,3,4,4,5,\"sjcnj\",9+7j)"
   ]
  },
  {
   "cell_type": "code",
   "execution_count": 20,
   "id": "9d2a47c1-ee02-4ca1-8995-b31c517ec70a",
   "metadata": {},
   "outputs": [
    {
     "data": {
      "text/plain": [
       "tuple"
      ]
     },
     "execution_count": 20,
     "metadata": {},
     "output_type": "execute_result"
    }
   ],
   "source": [
    "type(t1)"
   ]
  },
  {
   "cell_type": "code",
   "execution_count": 3,
   "id": "03ae18b6-f057-4db1-9e49-e3a7c5303001",
   "metadata": {},
   "outputs": [
    {
     "data": {
      "text/plain": [
       "(1, 2, 3, 3, 4, 4, 5, 'sjcnj', (9+7j))"
      ]
     },
     "execution_count": 3,
     "metadata": {},
     "output_type": "execute_result"
    }
   ],
   "source": [
    "t1"
   ]
  },
  {
   "cell_type": "code",
   "execution_count": 19,
   "id": "2849c474-2a52-4340-97c8-92d0b7b820b4",
   "metadata": {},
   "outputs": [],
   "source": [
    "l1= [1,2,3,3,4,4,5,\"sjcnj\",9+7j]"
   ]
  },
  {
   "cell_type": "code",
   "execution_count": 21,
   "id": "4dfa16e8-d771-43ba-a468-d586af72fa55",
   "metadata": {},
   "outputs": [
    {
     "data": {
      "text/plain": [
       "list"
      ]
     },
     "execution_count": 21,
     "metadata": {},
     "output_type": "execute_result"
    }
   ],
   "source": [
    "type(l1)"
   ]
  },
  {
   "cell_type": "code",
   "execution_count": 23,
   "id": "7f506608-867e-44fc-adf4-5be7b752cb57",
   "metadata": {},
   "outputs": [
    {
     "ename": "TypeError",
     "evalue": "'tuple' object is not callable",
     "output_type": "error",
     "traceback": [
      "\u001b[0;31m---------------------------------------------------------------------------\u001b[0m",
      "\u001b[0;31mTypeError\u001b[0m                                 Traceback (most recent call last)",
      "Cell \u001b[0;32mIn[23], line 1\u001b[0m\n\u001b[0;32m----> 1\u001b[0m \u001b[43mt1\u001b[49m\u001b[43m(\u001b[49m\u001b[38;5;241;43m8\u001b[39;49m\u001b[43m)\u001b[49m\n",
      "\u001b[0;31mTypeError\u001b[0m: 'tuple' object is not callable"
     ]
    }
   ],
   "source": [
    "t1(8)"
   ]
  },
  {
   "cell_type": "code",
   "execution_count": 25,
   "id": "122db396-ddb3-4b1e-940e-2d588b9011ca",
   "metadata": {},
   "outputs": [
    {
     "data": {
      "text/plain": [
       "(9+7j)"
      ]
     },
     "execution_count": 25,
     "metadata": {},
     "output_type": "execute_result"
    }
   ],
   "source": [
    "t1[8]"
   ]
  },
  {
   "cell_type": "raw",
   "id": "27b0b33a-dc3e-4590-8da6-0d68b9962a76",
   "metadata": {},
   "source": [
    "incase of slicing and indexing use square brackets'[]'"
   ]
  },
  {
   "cell_type": "code",
   "execution_count": 26,
   "id": "aafc3d31-f742-4001-ad7b-0bd2acbb170b",
   "metadata": {},
   "outputs": [
    {
     "data": {
      "text/plain": [
       "(9+7j)"
      ]
     },
     "execution_count": 26,
     "metadata": {},
     "output_type": "execute_result"
    }
   ],
   "source": [
    "l1[8]"
   ]
  },
  {
   "cell_type": "code",
   "execution_count": 27,
   "id": "3b6e6be4-bf4e-4edc-874a-87eb95cf1bae",
   "metadata": {},
   "outputs": [
    {
     "ename": "TypeError",
     "evalue": "'tuple' object does not support item assignment",
     "output_type": "error",
     "traceback": [
      "\u001b[0;31m---------------------------------------------------------------------------\u001b[0m",
      "\u001b[0;31mTypeError\u001b[0m                                 Traceback (most recent call last)",
      "Cell \u001b[0;32mIn[27], line 1\u001b[0m\n\u001b[0;32m----> 1\u001b[0m \u001b[43mt1\u001b[49m\u001b[43m[\u001b[49m\u001b[38;5;241;43m8\u001b[39;49m\u001b[43m]\u001b[49m\u001b[38;5;241m=\u001b[39m \u001b[38;5;124m\"\u001b[39m\u001b[38;5;124mskills\u001b[39m\u001b[38;5;124m\"\u001b[39m\n",
      "\u001b[0;31mTypeError\u001b[0m: 'tuple' object does not support item assignment"
     ]
    }
   ],
   "source": [
    "t1[8]= \"skills\""
   ]
  },
  {
   "cell_type": "code",
   "execution_count": 28,
   "id": "63b1ac31-295a-4cb4-bed7-a97bbadc9ca4",
   "metadata": {},
   "outputs": [],
   "source": [
    "l1[8] = \"skills\""
   ]
  },
  {
   "cell_type": "code",
   "execution_count": 29,
   "id": "f1a30c11-6e0d-4a8e-95ac-5300dbd6e1de",
   "metadata": {},
   "outputs": [
    {
     "data": {
      "text/plain": [
       "[1, 2, 3, 3, 4, 4, 5, 'sjcnj', 'skills']"
      ]
     },
     "execution_count": 29,
     "metadata": {},
     "output_type": "execute_result"
    }
   ],
   "source": [
    "l1"
   ]
  },
  {
   "cell_type": "code",
   "execution_count": null,
   "id": "2c422acb-e742-4683-b15e-0139181e3e60",
   "metadata": {},
   "outputs": [],
   "source": [
    "#so we can see tuple is immutable entity just like strings and list is mutuable"
   ]
  },
  {
   "cell_type": "code",
   "execution_count": 32,
   "id": "37340063-34a4-4e36-ae62-77679690c3f1",
   "metadata": {},
   "outputs": [
    {
     "data": {
      "text/plain": [
       "[1, 2, 3, 3, 4, 4, 5, 'sjcnj', (9+7j)]"
      ]
     },
     "execution_count": 32,
     "metadata": {},
     "output_type": "execute_result"
    }
   ],
   "source": [
    "list(t1)      #tuple converted into list by calling list functions "
   ]
  },
  {
   "cell_type": "code",
   "execution_count": 34,
   "id": "ae95c0e0-5123-433c-b196-930bb9ff1e8c",
   "metadata": {},
   "outputs": [],
   "source": [
    "#in tuple we cannot pop or insert since it is immutable entity;we can only use count and index fuctions "
   ]
  },
  {
   "cell_type": "code",
   "execution_count": 36,
   "id": "0e98a7ab-a23f-4c5e-887e-dab89212dbed",
   "metadata": {},
   "outputs": [
    {
     "data": {
      "text/plain": [
       "(1, 2, 3, 3, 4, 4, 5, 'sjcnj', 'skills')"
      ]
     },
     "execution_count": 36,
     "metadata": {},
     "output_type": "execute_result"
    }
   ],
   "source": [
    "tuple(l1)       #list converted in tuple"
   ]
  },
  {
   "cell_type": "code",
   "execution_count": 39,
   "id": "8b3bf9c9-9743-4251-8d06-67bbaf69f4d2",
   "metadata": {},
   "outputs": [
    {
     "data": {
      "text/plain": [
       "2"
      ]
     },
     "execution_count": 39,
     "metadata": {},
     "output_type": "execute_result"
    }
   ],
   "source": [
    "l1.count(3)"
   ]
  },
  {
   "cell_type": "code",
   "execution_count": null,
   "id": "15ac34f2-22ed-40d7-8a53-e6fe5d983ae9",
   "metadata": {},
   "outputs": [],
   "source": []
  }
 ],
 "metadata": {
  "kernelspec": {
   "display_name": "Python 3 (ipykernel)",
   "language": "python",
   "name": "python3"
  },
  "language_info": {
   "codemirror_mode": {
    "name": "ipython",
    "version": 3
   },
   "file_extension": ".py",
   "mimetype": "text/x-python",
   "name": "python",
   "nbconvert_exporter": "python",
   "pygments_lexer": "ipython3",
   "version": "3.10.8"
  }
 },
 "nbformat": 4,
 "nbformat_minor": 5
}
